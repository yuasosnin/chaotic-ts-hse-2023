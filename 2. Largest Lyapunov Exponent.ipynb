{
 "cells": [
  {
   "cell_type": "code",
   "execution_count": 1,
   "metadata": {},
   "outputs": [],
   "source": [
    "import numpy as np\n",
    "from scipy.spatial import distance_matrix"
   ]
  },
  {
   "cell_type": "markdown",
   "metadata": {},
   "source": [
    "# Algorithm implementation"
   ]
  },
  {
   "cell_type": "code",
   "execution_count": 2,
   "metadata": {},
   "outputs": [],
   "source": [
    "# inspired by neurokit2.complexity.complexity_lyapunov\n",
    "\n",
    "def z_vector_embedding(signal, delay=1, dimension=3):\n",
    "    n = len(signal)\n",
    "    z_len = n - (dimension - 1) * delay\n",
    "\n",
    "    z = np.zeros((dimension, z_len))\n",
    "    for i in range(dimension):\n",
    "        z[i] = signal[(i * delay):(i * delay + z_len)]\n",
    "    return z.T\n",
    "\n",
    "\n",
    "def largest_lyapunov_exponent(signal, delay=1, dimension=4, separation=1, len_trajectory=20):\n",
    "    embedded = z_vector_embedding(signal, delay=delay, dimension=dimension)\n",
    "    n = len(embedded)\n",
    "\n",
    "    distances = distance_matrix(embedded, embedded)\n",
    "    # remove too close points from consideration\n",
    "    for i in range(n):\n",
    "        distances[i, max(0, i-separation):(i + separation + 1)] = np.inf\n",
    "\n",
    "    max_trajectory_start = n - len_trajectory + 1\n",
    "    neighbor_indices = np.argmin(distances[:max_trajectory_start, :max_trajectory_start], axis=1)\n",
    "\n",
    "    trajectories = []\n",
    "    x = np.arange(max_trajectory_start)  # trajectories to track\n",
    "    x_neighbor = neighbor_indices  # their neighbors\n",
    "    for _ in range(len_trajectory):\n",
    "        divergence = distances[x, x_neighbor]\n",
    "        mean_log_divergence = np.mean(np.log(divergence))\n",
    "        trajectories.append(mean_log_divergence)\n",
    "        # advance time one step\n",
    "        x += 1\n",
    "        x_neighbor += 1\n",
    "\n",
    "    times = np.arange(len_trajectory) + 1\n",
    "    slope, _ = np.polyfit(times, trajectories, deg=1)\n",
    "    return slope"
   ]
  },
  {
   "cell_type": "markdown",
   "metadata": {},
   "source": [
    "# Data"
   ]
  },
  {
   "cell_type": "code",
   "execution_count": 3,
   "metadata": {},
   "outputs": [],
   "source": [
    "from src.series import skew_tent_map, logistic_map, henon_map, schuster_map, henon_map, lorenz_map"
   ]
  },
  {
   "cell_type": "code",
   "execution_count": 4,
   "metadata": {},
   "outputs": [],
   "source": [
    "sine_data = np.sin(np.arange(0, 100, .01))\n",
    "gaussian_noise = np.random.normal(size=1000)"
   ]
  },
  {
   "cell_type": "code",
   "execution_count": 5,
   "metadata": {},
   "outputs": [],
   "source": [
    "from statsmodels.tsa.arima_process import arma_generate_sample\n",
    "ar = np.array([1, 0.75, -0.25])\n",
    "ma = np.array([1, 0.65, 0.35])\n",
    "arma_process = arma_generate_sample(ar, ma, 1000)"
   ]
  },
  {
   "cell_type": "code",
   "execution_count": 6,
   "metadata": {},
   "outputs": [
    {
     "name": "stdout",
     "output_type": "stream",
     "text": [
      "[*********************100%%**********************]  1 of 1 completed\n"
     ]
    }
   ],
   "source": [
    "import yfinance as yf\n",
    "snp = yf.download(\"^GSPC\", start='1993-02-01', end='2023-12-17')\n",
    "snp_return = np.diff(snp[\"Close\"])"
   ]
  },
  {
   "cell_type": "code",
   "execution_count": 7,
   "metadata": {},
   "outputs": [],
   "source": [
    "series = {\n",
    "    \"Gaussian\": gaussian_noise,\n",
    "    \"ARMA\": arma_process,\n",
    "    \"Sine\": sine_data,\n",
    "    \"Financial\": snp_return,\n",
    "    \"Lorenz series\": lorenz_map(1000),\n",
    "    \"Skew Tent map\": skew_tent_map(1000),\n",
    "    \"Logistic map\": logistic_map(1000),\n",
    "    \"Schuster map\": schuster_map(1000),\n",
    "    \"Henon map\": henon_map(1000)\n",
    "}"
   ]
  },
  {
   "cell_type": "markdown",
   "metadata": {},
   "source": [
    "# Estimation"
   ]
  },
  {
   "cell_type": "code",
   "execution_count": 8,
   "metadata": {},
   "outputs": [
    {
     "name": "stdout",
     "output_type": "stream",
     "text": [
      "Gaussian LLE: 0.0402\n",
      "ARMA LLE: 0.0564\n",
      "Sine LLE: -0.0\n",
      "Financial LLE: 0.049\n",
      "Lorenz series LLE: 0.1025\n",
      "Skew Tent map LLE: 0.2778\n",
      "Logistic map LLE: 0.2006\n",
      "Schuster map LLE: 0.1893\n",
      "Henon map LLE: 0.2428\n"
     ]
    }
   ],
   "source": [
    "for k, v in series.items():\n",
    "    lle = largest_lyapunov_exponent(v, delay=1, dimension=6, separation=100)\n",
    "    print(k, \"LLE:\", round(lle, 4))"
   ]
  },
  {
   "cell_type": "code",
   "execution_count": 9,
   "metadata": {},
   "outputs": [
    {
     "name": "stdout",
     "output_type": "stream",
     "text": [
      "Gaussian LLE: 0.0346\n",
      "ARMA LLE: 0.0484\n",
      "Sine LLE: -0.0\n",
      "Financial LLE: 0.0412\n",
      "Lorenz series LLE: 0.0844\n",
      "Skew Tent map LLE: 0.1758\n",
      "Logistic map LLE: 0.0906\n",
      "Schuster map LLE: 0.1404\n",
      "Henon map LLE: 0.1619\n"
     ]
    }
   ],
   "source": [
    "for k, v in series.items():\n",
    "    lle = largest_lyapunov_exponent(v, delay=2, dimension=6, separation=100)\n",
    "    print(k, \"LLE:\", round(lle, 4))"
   ]
  },
  {
   "cell_type": "code",
   "execution_count": 10,
   "metadata": {},
   "outputs": [
    {
     "name": "stdout",
     "output_type": "stream",
     "text": [
      "Gaussian LLE: 0.0381\n",
      "ARMA LLE: 0.05\n",
      "Sine LLE: -0.0\n",
      "Financial LLE: 0.0449\n",
      "Lorenz series LLE: 0.0888\n",
      "Skew Tent map LLE: 0.1988\n",
      "Logistic map LLE: 0.1039\n",
      "Schuster map LLE: 0.1522\n",
      "Henon map LLE: 0.182\n"
     ]
    }
   ],
   "source": [
    "for k, v in series.items():\n",
    "    lle = largest_lyapunov_exponent(v, delay=1, dimension=10, separation=100)\n",
    "    print(k, \"LLE:\", round(lle, 4))"
   ]
  },
  {
   "cell_type": "code",
   "execution_count": null,
   "metadata": {},
   "outputs": [],
   "source": []
  }
 ],
 "metadata": {
  "kernelspec": {
   "display_name": ".venv",
   "language": "python",
   "name": "python3"
  },
  "language_info": {
   "codemirror_mode": {
    "name": "ipython",
    "version": 3
   },
   "file_extension": ".py",
   "mimetype": "text/x-python",
   "name": "python",
   "nbconvert_exporter": "python",
   "pygments_lexer": "ipython3",
   "version": "3.9.4"
  }
 },
 "nbformat": 4,
 "nbformat_minor": 2
}
